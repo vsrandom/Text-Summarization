{
 "cells": [
  {
   "cell_type": "code",
   "execution_count": 20,
   "metadata": {},
   "outputs": [
    {
     "name": "stdout",
     "output_type": "stream",
     "text": [
      "\n",
      "Synset specific term :   [Synset('acoustic_device.n.01'), Synset('adapter.n.02'), Synset('afterburner.n.01'), Synset('agglomerator.n.01'), Synset('airfoil.n.01'), Synset('alarm.n.02'), Synset('appliance.n.01'), Synset('applicator.n.01'), Synset('aspergill.n.01'), Synset('autopilot.n.02'), Synset('bait.n.02'), Synset('billiard_marker.n.01'), Synset('bird_feeder.n.01'), Synset('blower.n.01'), Synset('bootjack.n.01'), Synset('breathalyzer.n.01'), Synset('breathing_device.n.01'), Synset('bubbler.n.02'), Synset('buffer.n.06'), Synset('catapult.n.02'), Synset('charger.n.02'), Synset('clip-on.n.01'), Synset('comb.n.01'), Synset('comforter.n.04'), Synset('conductor.n.04'), Synset('contraceptive.n.01'), Synset('converter.n.01'), Synset('corer.n.01'), Synset('corrective.n.01'), Synset('crusher.n.01'), Synset('cryptograph.n.03'), Synset('cutoff.n.03'), Synset('dampener.n.01'), Synset('damper.n.02'), Synset('deflector.n.01'), Synset('dental_appliance.n.01'), Synset('depressor.n.03'), Synset('detector.n.01'), Synset('diestock.n.01'), Synset('drive.n.10'), Synset('drop_forge.n.01'), Synset('elastic_device.n.01'), Synset('electrical_device.n.01'), Synset('electronic_device.n.01'), Synset('energizer.n.02'), Synset('exercise_device.n.01'), Synset('explosive_device.n.01'), Synset('fan.n.01'), Synset('filter.n.01'), Synset('fire_extinguisher.n.01'), Synset('flare.n.09'), Synset('fumigator.n.02'), Synset('gas_fixture.n.01'), Synset('groover.n.01'), Synset('guard.n.03'), Synset('heat_exchanger.n.01'), Synset('heater.n.01'), Synset('holding_device.n.01'), Synset('horn.n.08'), Synset('hydrofoil.n.01'), Synset('imprint.n.05'), Synset('indicator.n.03'), Synset('instrument.n.01'), Synset('interlock.n.01'), Synset('interrupter.n.01'), Synset('jig.n.03'), Synset('key.n.01'), Synset('keyboard.n.01'), Synset('kinetoscope.n.01'), Synset('knocker.n.05'), Synset('lift.n.06'), Synset('lifting_device.n.01'), Synset('lighter.n.02'), Synset('machine.n.01'), Synset('magnet.n.01'), Synset('mechanism.n.05'), Synset('memory_device.n.01'), Synset('musical_instrument.n.01'), Synset('nest_egg.n.02'), Synset('noisemaker.n.01'), Synset('optical_device.n.01'), Synset('override.n.01'), Synset('paper_feed.n.01'), Synset('peeler.n.03'), Synset('pick.n.05'), Synset('power_takeoff.n.01'), Synset('prod.n.02'), Synset('prompter.n.02'), Synset('pull.n.04'), Synset('reflector.n.01'), Synset('release.n.08'), Synset('remote_control.n.01'), Synset('reset.n.01'), Synset('restraint.n.06'), Synset('router.n.02'), Synset('runner.n.09'), Synset('scratcher.n.03'), Synset('shoehorn.n.01'), Synset('shoetree.n.01'), Synset('shooting_stick.n.01'), Synset('shredder.n.01'), Synset('signaling_device.n.01'), Synset('snowshoe.n.01'), Synset('sounder.n.01'), Synset('source_of_illumination.n.01'), Synset('stabilizer.n.03'), Synset('stemmer.n.05'), Synset('straightener.n.01'), Synset('strengthener.n.01'), Synset('stylus.n.01'), Synset('suction_cup.n.01'), Synset('support.n.10'), Synset('sweatbox.n.02'), Synset('synchroflash.n.01'), Synset('take-up.n.01'), Synset('teaser.n.07'), Synset('throwing_stick.n.01'), Synset('tilter.n.02'), Synset('tongs.n.01'), Synset('toy.n.03'), Synset('trap.n.01'), Synset('trigger.n.02'), Synset('valve.n.02'), Synset('vaporizer.n.01'), Synset('ventilator.n.01'), Synset('washboard.n.01'), Synset('water_cooler.n.01')]\n"
     ]
    }
   ],
   "source": [
    "\n",
    "from nltk.corpus import wordnet \n",
    "syn = wordnet.synsets('machine')[0] \n",
    "print (\"\\nSynset specific term :  \",  \n",
    "       syn.hypernyms()[0].hyponyms())"
   ]
  },
  {
   "cell_type": "code",
   "execution_count": 13,
   "metadata": {},
   "outputs": [
    {
     "ename": "SyntaxError",
     "evalue": "invalid syntax (<ipython-input-13-d9fd24d8f6a4>, line 1)",
     "output_type": "error",
     "traceback": [
      "\u001b[1;36m  File \u001b[1;32m\"<ipython-input-13-d9fd24d8f6a4>\"\u001b[1;36m, line \u001b[1;32m1\u001b[0m\n\u001b[1;33m    string s=\"0.024*\"data\" + 0.017*\"blockchain\" + 0.015*\"information\" + 0.013*\"hash\" + 0.011*\"network\" + 0.010*\"money\" + 0.010*\"like\" + 0.009*\"nodes\" + 0.009*\"person\" + 0.007*\"entity\"\"\u001b[0m\n\u001b[1;37m           ^\u001b[0m\n\u001b[1;31mSyntaxError\u001b[0m\u001b[1;31m:\u001b[0m invalid syntax\n"
     ]
    }
   ],
   "source": []
  },
  {
   "cell_type": "code",
   "execution_count": 15,
   "metadata": {},
   "outputs": [],
   "source": [
    "a = '0.077*\"data\" + 0.017*\"learning\" + 0.008*\"cloud\" + 0.008*\"machine\" + 0.008*\"business\" + 0.007*\"deep\" + 0.007*\"hadoop\" + 0.006*\"server\" + 0.006*\"analytics\" + 0.006*\"identify\"'\n"
   ]
  },
  {
   "cell_type": "code",
   "execution_count": 19,
   "metadata": {},
   "outputs": [
    {
     "data": {
      "text/plain": [
       "['data',\n",
       " 'learning',\n",
       " 'cloud',\n",
       " 'machine',\n",
       " 'business',\n",
       " 'deep',\n",
       " 'hadoop',\n",
       " 'server',\n",
       " 'analytics',\n",
       " 'identify']"
      ]
     },
     "execution_count": 19,
     "metadata": {},
     "output_type": "execute_result"
    }
   ],
   "source": [
    "l = [e.split(\"*\")[1].replace('\"','') for e in a.strip().split(\" + \")]\n",
    "l"
   ]
  }
 ],
 "metadata": {
  "kernelspec": {
   "display_name": "Python 3",
   "language": "python",
   "name": "python3"
  },
  "language_info": {
   "codemirror_mode": {
    "name": "ipython",
    "version": 3
   },
   "file_extension": ".py",
   "mimetype": "text/x-python",
   "name": "python",
   "nbconvert_exporter": "python",
   "pygments_lexer": "ipython3",
   "version": "3.6.2"
  }
 },
 "nbformat": 4,
 "nbformat_minor": 2
}
