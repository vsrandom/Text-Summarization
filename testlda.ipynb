{
 "cells": [
  {
   "cell_type": "code",
   "execution_count": 2,
   "metadata": {},
   "outputs": [],
   "source": [
    "import pandas as pd\n",
    "data = pd.read_csv('abcnews-date-text.csv', error_bad_lines=False);\n",
    "data_text = data[['headline_text']]\n",
    "data_text['index'] = data_text.index\n",
    "documents = data_text\n",
    "#now doucuments / data_text has headline text and index"
   ]
  },
  {
   "cell_type": "code",
   "execution_count": 72,
   "metadata": {},
   "outputs": [
    {
     "name": "stdout",
     "output_type": "stream",
     "text": [
      "                                       headline_text  index\n",
      "0  aba decides against community broadcasting lic...      0\n",
      "1     act fire witnesses must be aware of defamation      1\n",
      "2     a g calls for infrastructure protection summit      2\n",
      "3           air nz staff in aust strike for pay rise      3\n",
      "4      air nz strike to affect australian travellers      4\n",
      "5                  ambitious olsson wins triple jump      5\n",
      "6         antic delighted with record breaking barca      6\n",
      "7  aussie qualifier stosur wastes four memphis match      7\n",
      "8       aust addresses un security council over iraq      8\n",
      "9         australia is locked into war timetable opp      9\n",
      "<class 'pandas.core.frame.DataFrame'>\n"
     ]
    }
   ],
   "source": [
    "# print(len(documents))\n",
    "print(documents[:10])\n",
    "print(type(documents))"
   ]
  },
  {
   "cell_type": "code",
   "execution_count": 9,
   "metadata": {},
   "outputs": [
    {
     "name": "stderr",
     "output_type": "stream",
     "text": [
      "[nltk_data] Downloading package wordnet to\n",
      "[nltk_data]     C:\\Users\\vivek\\AppData\\Roaming\\nltk_data...\n",
      "[nltk_data]   Package wordnet is already up-to-date!\n"
     ]
    },
    {
     "data": {
      "text/plain": [
       "True"
      ]
     },
     "execution_count": 9,
     "metadata": {},
     "output_type": "execute_result"
    }
   ],
   "source": [
    "import gensim\n",
    "from gensim.utils import simple_preprocess\n",
    "from gensim.parsing.preprocessing import STOPWORDS\n",
    "from nltk.stem import WordNetLemmatizer, SnowballStemmer\n",
    "from nltk.stem.porter import *\n",
    "import numpy as np\n",
    "np.random.seed(2018)\n",
    "import nltk\n",
    "nltk.download('wordnet')"
   ]
  },
  {
   "cell_type": "code",
   "execution_count": 33,
   "metadata": {},
   "outputs": [],
   "source": [
    "stemmer = SnowballStemmer(\"english\")\n",
    "def lemmatize_stemming(text):\n",
    "    return stemmer.stem(WordNetLemmatizer().lemmatize(text, pos='v'))\n",
    "\n",
    "def preprocess(text):\n",
    "    result = []\n",
    "    for token in gensim.utils.simple_preprocess(text):\n",
    "        if token not in gensim.parsing.preprocessing.STOPWORDS and len(token) > 3:\n",
    "            result.append(lemmatize_stemming(token))\n",
    "    return result"
   ]
  },
  {
   "cell_type": "code",
   "execution_count": 73,
   "metadata": {},
   "outputs": [
    {
     "name": "stdout",
     "output_type": "stream",
     "text": [
      "aba decides against community broadcasting licence\n",
      "['aba', 'decides', 'against', 'community', 'broadcasting', 'licence']\n",
      "['decid', 'communiti', 'broadcast', 'licenc']\n",
      "<class 'str'>\n"
     ]
    }
   ],
   "source": [
    "doc_sample = documents[documents['index'] == 0].values[0][0]\n",
    "print(doc_sample)\n",
    "words=[]\n",
    "for word in doc_sample.split(' '):\n",
    "    words.append(word)\n",
    "print(words)\n",
    "print(preprocess(doc_sample))\n",
    "print(type(doc_sample))"
   ]
  },
  {
   "cell_type": "code",
   "execution_count": 37,
   "metadata": {},
   "outputs": [],
   "source": [
    "processed_docs = documents['headline_text'].map(preprocess)\n"
   ]
  },
  {
   "cell_type": "code",
   "execution_count": 74,
   "metadata": {},
   "outputs": [
    {
     "name": "stdout",
     "output_type": "stream",
     "text": [
      "1103663\n",
      "<class 'pandas.core.series.Series'>\n",
      "0            [decid, communiti, broadcast, licenc]\n",
      "1                               [wit, awar, defam]\n",
      "2           [call, infrastructur, protect, summit]\n",
      "3                      [staff, aust, strike, rise]\n",
      "4             [strike, affect, australian, travel]\n",
      "5               [ambiti, olsson, win, tripl, jump]\n",
      "6           [antic, delight, record, break, barca]\n",
      "7    [aussi, qualifi, stosur, wast, memphi, match]\n",
      "8            [aust, address, secur, council, iraq]\n",
      "9                         [australia, lock, timet]\n",
      "Name: headline_text, dtype: object\n"
     ]
    }
   ],
   "source": [
    "print(len(processed_docs))\n",
    "print(type(processed_docs))\n",
    "print(processed_docs[:10])"
   ]
  },
  {
   "cell_type": "code",
   "execution_count": 46,
   "metadata": {},
   "outputs": [
    {
     "name": "stdout",
     "output_type": "stream",
     "text": [
      "0 broadcast\n",
      "1 communiti\n",
      "2 decid\n",
      "3 licenc\n",
      "4 awar\n",
      "5 defam\n",
      "6 wit\n",
      "7 call\n",
      "8 infrastructur\n",
      "9 protect\n",
      "10 summit\n"
     ]
    }
   ],
   "source": [
    "dictionary = gensim.corpora.Dictionary(processed_docs)\n"
   ]
  },
  {
   "cell_type": "code",
   "execution_count": 54,
   "metadata": {},
   "outputs": [
    {
     "name": "stdout",
     "output_type": "stream",
     "text": [
      "Dictionary(14143 unique tokens: ['broadcast', 'communiti', 'decid', 'licenc', 'awar']...)\n"
     ]
    }
   ],
   "source": [
    "print(dictionary)\n",
    "# count = 0\n",
    "# for k, v in dictionary.iteritems():\n",
    "#     print(k, v)\n",
    "#     count += 1\n",
    "#     if count > 10:\n",
    "#         break"
   ]
  },
  {
   "cell_type": "code",
   "execution_count": 55,
   "metadata": {},
   "outputs": [
    {
     "name": "stdout",
     "output_type": "stream",
     "text": [
      "Dictionary(14143 unique tokens: ['broadcast', 'communiti', 'decid', 'licenc', 'awar']...)\n"
     ]
    }
   ],
   "source": [
    "dictionary.filter_extremes(no_below=15, no_above=0.5, keep_n=100000)\n",
    "print(dictionary)"
   ]
  },
  {
   "cell_type": "code",
   "execution_count": 56,
   "metadata": {},
   "outputs": [],
   "source": [
    "bow_corpus = [dictionary.doc2bow(doc) for doc in processed_docs]"
   ]
  },
  {
   "cell_type": "code",
   "execution_count": 65,
   "metadata": {},
   "outputs": [
    {
     "name": "stdout",
     "output_type": "stream",
     "text": [
      "0     [decid, communiti, broadcast, licenc]\n",
      "1                        [wit, awar, defam]\n",
      "2    [call, infrastructur, protect, summit]\n",
      "Name: headline_text, dtype: object\n",
      "Dictionary(14143 unique tokens: ['broadcast', 'communiti', 'decid', 'licenc', 'awar']...)\n",
      "[(0, 1), (1, 1), (2, 1), (3, 1)]\n"
     ]
    }
   ],
   "source": [
    "print(processed_docs[:3])\n",
    "print (dictionary)\n",
    "print(bow_corpus[0])"
   ]
  },
  {
   "cell_type": "code",
   "execution_count": 66,
   "metadata": {},
   "outputs": [
    {
     "name": "stdout",
     "output_type": "stream",
     "text": [
      "Word 0 (\"broadcast\") appears 1 time.\n",
      "Word 1 (\"communiti\") appears 1 time.\n",
      "Word 2 (\"decid\") appears 1 time.\n",
      "Word 3 (\"licenc\") appears 1 time.\n"
     ]
    }
   ],
   "source": [
    "bow_doc_4310 = bow_corpus[0]\n",
    "for i in range(len(bow_doc_4310)):\n",
    "    print(\"Word {} (\\\"{}\\\") appears {} time.\".format(bow_doc_4310[i][0], \n",
    "                                               dictionary[bow_doc_4310[i][0]], \n",
    "                                                bow_doc_4310[i][1]))"
   ]
  },
  {
   "cell_type": "code",
   "execution_count": 67,
   "metadata": {},
   "outputs": [],
   "source": [
    "lda_model = gensim.models.LdaMulticore(bow_corpus, num_topics=10, id2word=dictionary, passes=2, workers=2)"
   ]
  },
  {
   "cell_type": "code",
   "execution_count": 68,
   "metadata": {},
   "outputs": [
    {
     "name": "stdout",
     "output_type": "stream",
     "text": [
      "Topic: 0 \n",
      "Words: 0.022*\"warn\" + 0.021*\"market\" + 0.018*\"hospit\" + 0.016*\"health\" + 0.015*\"high\" + 0.015*\"share\" + 0.015*\"school\" + 0.015*\"minist\" + 0.014*\"break\" + 0.013*\"student\"\n",
      "Topic: 1 \n",
      "Words: 0.040*\"australian\" + 0.025*\"adelaid\" + 0.020*\"test\" + 0.017*\"tasmanian\" + 0.017*\"open\" + 0.017*\"win\" + 0.014*\"melbourn\" + 0.011*\"vote\" + 0.011*\"darwin\" + 0.009*\"river\"\n",
      "Topic: 2 \n",
      "Words: 0.023*\"chang\" + 0.018*\"miss\" + 0.017*\"tasmania\" + 0.014*\"farmer\" + 0.014*\"concern\" + 0.013*\"fall\" + 0.013*\"busi\" + 0.012*\"show\" + 0.012*\"price\" + 0.011*\"search\"\n",
      "Topic: 3 \n",
      "Words: 0.030*\"govern\" + 0.022*\"south\" + 0.020*\"north\" + 0.017*\"countri\" + 0.016*\"fund\" + 0.016*\"rural\" + 0.014*\"hour\" + 0.014*\"west\" + 0.013*\"indigen\" + 0.013*\"australia\"\n",
      "Topic: 4 \n",
      "Words: 0.021*\"die\" + 0.020*\"live\" + 0.018*\"donald\" + 0.017*\"coast\" + 0.015*\"gold\" + 0.014*\"lose\" + 0.013*\"return\" + 0.013*\"park\" + 0.012*\"beat\" + 0.011*\"royal\"\n",
      "Topic: 5 \n",
      "Words: 0.027*\"elect\" + 0.021*\"sydney\" + 0.017*\"say\" + 0.014*\"labor\" + 0.013*\"time\" + 0.013*\"record\" + 0.012*\"call\" + 0.012*\"train\" + 0.011*\"budget\" + 0.010*\"polit\"\n",
      "Topic: 6 \n",
      "Words: 0.038*\"polic\" + 0.028*\"charg\" + 0.026*\"court\" + 0.020*\"murder\" + 0.018*\"death\" + 0.017*\"face\" + 0.015*\"woman\" + 0.015*\"alleg\" + 0.015*\"interview\" + 0.014*\"jail\"\n",
      "Topic: 7 \n",
      "Words: 0.033*\"trump\" + 0.023*\"australia\" + 0.020*\"world\" + 0.017*\"final\" + 0.016*\"china\" + 0.014*\"rise\" + 0.012*\"island\" + 0.012*\"leagu\" + 0.012*\"take\" + 0.011*\"citi\"\n",
      "Topic: 8 \n",
      "Words: 0.037*\"year\" + 0.030*\"queensland\" + 0.022*\"canberra\" + 0.014*\"investig\" + 0.014*\"children\" + 0.014*\"hous\" + 0.011*\"game\" + 0.011*\"releas\" + 0.010*\"young\" + 0.010*\"life\"\n",
      "Topic: 9 \n",
      "Words: 0.027*\"kill\" + 0.024*\"home\" + 0.019*\"crash\" + 0.019*\"attack\" + 0.017*\"turnbul\" + 0.014*\"road\" + 0.014*\"protest\" + 0.014*\"driver\" + 0.013*\"farm\" + 0.013*\"polic\"\n"
     ]
    }
   ],
   "source": [
    "for idx, topic in lda_model.print_topics(-1):\n",
    "    print('Topic: {} \\nWords: {}'.format(idx, topic))"
   ]
  },
  {
   "cell_type": "code",
   "execution_count": null,
   "metadata": {},
   "outputs": [],
   "source": []
  }
 ],
 "metadata": {
  "kernelspec": {
   "display_name": "Python 3",
   "language": "python",
   "name": "python3"
  },
  "language_info": {
   "codemirror_mode": {
    "name": "ipython",
    "version": 3
   },
   "file_extension": ".py",
   "mimetype": "text/x-python",
   "name": "python",
   "nbconvert_exporter": "python",
   "pygments_lexer": "ipython3",
   "version": "3.6.2"
  }
 },
 "nbformat": 4,
 "nbformat_minor": 2
}
