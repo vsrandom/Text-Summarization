{
 "cells": [
  {
   "cell_type": "code",
   "execution_count": 12,
   "metadata": {},
   "outputs": [
    {
     "ename": "IndexError",
     "evalue": "list index out of range",
     "output_type": "error",
     "traceback": [
      "\u001b[1;31m---------------------------------------------------------------------------\u001b[0m",
      "\u001b[1;31mIndexError\u001b[0m                                Traceback (most recent call last)",
      "\u001b[1;32m<ipython-input-12-1b4e31a04612>\u001b[0m in \u001b[0;36m<module>\u001b[1;34m\u001b[0m\n\u001b[0;32m      1\u001b[0m \u001b[1;32mfrom\u001b[0m \u001b[0mnltk\u001b[0m\u001b[1;33m.\u001b[0m\u001b[0mcorpus\u001b[0m \u001b[1;32mimport\u001b[0m \u001b[0mwordnet\u001b[0m\u001b[1;33m\u001b[0m\u001b[0m\n\u001b[1;32m----> 2\u001b[1;33m \u001b[0msyn\u001b[0m \u001b[1;33m=\u001b[0m \u001b[0mwordnet\u001b[0m\u001b[1;33m.\u001b[0m\u001b[0msynsets\u001b[0m\u001b[1;33m(\u001b[0m\u001b[1;34m'blockchain'\u001b[0m\u001b[1;33m)\u001b[0m\u001b[1;33m[\u001b[0m\u001b[1;36m0\u001b[0m\u001b[1;33m]\u001b[0m\u001b[1;33m\u001b[0m\u001b[0m\n\u001b[0m\u001b[0;32m      3\u001b[0m print (\"\\nSynset specific term :  \",  \n\u001b[0;32m      4\u001b[0m        syn.hypernyms()[0].hyponyms())\n",
      "\u001b[1;31mIndexError\u001b[0m: list index out of range"
     ]
    }
   ],
   "source": [
    "\n",
    "from nltk.corpus import wordnet \n",
    "syn = wordnet.synsets('blockchain')[0] \n",
    "print (\"\\nSynset specific term :  \",  \n",
    "       syn.hypernyms()[0].hyponyms())"
   ]
  },
  {
   "cell_type": "code",
   "execution_count": 13,
   "metadata": {},
   "outputs": [
    {
     "ename": "SyntaxError",
     "evalue": "invalid syntax (<ipython-input-13-d9fd24d8f6a4>, line 1)",
     "output_type": "error",
     "traceback": [
      "\u001b[1;36m  File \u001b[1;32m\"<ipython-input-13-d9fd24d8f6a4>\"\u001b[1;36m, line \u001b[1;32m1\u001b[0m\n\u001b[1;33m    string s=\"0.024*\"data\" + 0.017*\"blockchain\" + 0.015*\"information\" + 0.013*\"hash\" + 0.011*\"network\" + 0.010*\"money\" + 0.010*\"like\" + 0.009*\"nodes\" + 0.009*\"person\" + 0.007*\"entity\"\"\u001b[0m\n\u001b[1;37m           ^\u001b[0m\n\u001b[1;31mSyntaxError\u001b[0m\u001b[1;31m:\u001b[0m invalid syntax\n"
     ]
    }
   ],
   "source": [
    "string s=a\"0.024*\"data\" + 0.017*\"blockchain\" + 0.015*\"information\" + 0.013*\"hash\" + 0.011*\"network\" + 0.010*\"money\" + 0.010*\"like\" + 0.009*\"nodes\" + 0.009*\"person\" + 0.007*\"entity\"\""
   ]
  },
  {
   "cell_type": "code",
   "execution_count": 15,
   "metadata": {},
   "outputs": [],
   "source": [
    "a = '0.077*\"data\" + 0.017*\"learning\" + 0.008*\"cloud\" + 0.008*\"machine\" + 0.008*\"business\" + 0.007*\"deep\" + 0.007*\"hadoop\" + 0.006*\"server\" + 0.006*\"analytics\" + 0.006*\"identify\"'\n"
   ]
  },
  {
   "cell_type": "code",
   "execution_count": 16,
   "metadata": {},
   "outputs": [
    {
     "data": {
      "text/plain": [
       "'0.077*\"data\" + 0.017*\"learning\" + 0.008*\"cloud\" + 0.008*\"machine\" + 0.008*\"business\" + 0.007*\"deep\" + 0.007*\"hadoop\" + 0.006*\"server\" + 0.006*\"analytics\" + 0.006*\"identify\"'"
      ]
     },
     "execution_count": 16,
     "metadata": {},
     "output_type": "execute_result"
    }
   ],
   "source": [
    "l = [e.split(\"*\")[1] for e ina.strip().split(\" + \")]"
   ]
  }
 ],
 "metadata": {
  "kernelspec": {
   "display_name": "Python 3",
   "language": "python",
   "name": "python3"
  },
  "language_info": {
   "codemirror_mode": {
    "name": "ipython",
    "version": 3
   },
   "file_extension": ".py",
   "mimetype": "text/x-python",
   "name": "python",
   "nbconvert_exporter": "python",
   "pygments_lexer": "ipython3",
   "version": "3.6.2"
  }
 },
 "nbformat": 4,
 "nbformat_minor": 2
}
